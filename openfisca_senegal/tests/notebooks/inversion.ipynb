{
 "cells": [
  {
   "cell_type": "raw",
   "metadata": {},
   "source": [
    "import matplotlib"
   ]
  },
  {
   "cell_type": "code",
   "execution_count": 1,
   "metadata": {},
   "outputs": [],
   "source": [
    "from matplotlib import pyplot as plt"
   ]
  },
  {
   "cell_type": "code",
   "execution_count": 2,
   "metadata": {},
   "outputs": [],
   "source": [
    "%matplotlib inline"
   ]
  },
  {
   "cell_type": "code",
   "execution_count": 3,
   "metadata": {},
   "outputs": [],
   "source": [
    "from openfisca_senegal import CountryTaxBenefitSystem as SenegalTaxBenfitSystem\n",
    "from openfisca_senegal.scenarios import init_single_entity\n"
   ]
  },
  {
   "cell_type": "code",
   "execution_count": 4,
   "metadata": {},
   "outputs": [
    {
     "data": {
      "text/plain": [
       "<openfisca_core.taxbenefitsystems.TaxBenefitSystem.new_scenario.<locals>.ScenarioAdapter at 0x7fb39db0acc0>"
      ]
     },
     "execution_count": 4,
     "metadata": {},
     "output_type": "execute_result"
    }
   ],
   "source": [
    "scenario = SenegalTaxBenfitSystem().new_scenario()\n",
    "period = 2011\n",
    "nombre_de_parts_value = 1.5\n",
    "init_single_entity(\n",
    "    scenario,\n",
    "    parent1 = {\n",
    "        'salaire_brut': 0,\n",
    "        'conjoint_a_des_revenus': False,\n",
    "        'nombre_de_parts': nombre_de_parts_value,\n",
    "        },\n",
    "    axes = [[{\n",
    "        'count': 1000,\n",
    "        'min': 0,\n",
    "        'max': 20e6,\n",
    "        'name': 'pension_retraite_brut',\n",
    "        }]],\n",
    "    period = period,\n",
    "    )"
   ]
  },
  {
   "cell_type": "code",
   "execution_count": 5,
   "metadata": {},
   "outputs": [
    {
     "data": {
      "text/plain": [
       "[<matplotlib.lines.Line2D at 0x7fb39b7ac358>]"
      ]
     },
     "execution_count": 5,
     "metadata": {},
     "output_type": "execute_result"
    },
    {
     "data": {
      "image/png": "[encoded data removed]",
      "text/plain": [
       "<Figure size 432x288 with 1 Axes>"
      ]
     },
     "metadata": {
      "needs_background": "light"
     },
     "output_type": "display_data"
    }
   ],
   "source": [
    "simulation = scenario.new_simulation()\n",
    "pension_retraite_brut = simulation.calculate('pension_retraite_brut', period)\n",
    "droit_progressif = simulation.calculate('droit_progressif', period)\n",
    "plt.plot(\n",
    "    pension_retraite_brut,\n",
    "    droit_progressif,\n",
    "    )\n",
    "\n",
    "    "
   ]
  },
  {
   "cell_type": "code",
   "execution_count": 6,
   "metadata": {},
   "outputs": [],
   "source": [
    "from openfisca_core.rates import marginal_rate\n"
   ]
  },
  {
   "cell_type": "code",
   "execution_count": 7,
   "metadata": {},
   "outputs": [
    {
     "data": {
      "text/plain": [
       "array([0.        , 0.02430069, 0.179995  , 0.18000525, 0.18000752,\n",
       "       0.18666333, 0.1866883 , 0.19626379, 0.19787711, 0.19997501,\n",
       "       0.19999498, 0.19999999, 0.20001996, 0.20002496, 0.20494503,\n",
       "       0.21999252, 0.22000498, 0.23246753, 0.23329335, 0.23330504,\n",
       "       0.23331666, 0.23332834, 0.23333001, 0.23333585, 0.23334163,\n",
       "       0.23334748, 0.23335499, 0.23336661, 0.24120879, 0.24998748,\n",
       "       0.2499969 , 0.25      , 0.25000936, 0.25001252, 0.2547952 ,\n",
       "       0.26337415, 0.26660675, 0.2666334 , 0.26668334, 0.2667333 ,\n",
       "       0.279988  , 0.27999502, 0.27999848, 0.2800005 , 0.28000402,\n",
       "       0.28000748, 0.28001297, 0.28002   ], dtype=float32)"
      ]
     },
     "execution_count": 7,
     "metadata": {},
     "output_type": "execute_result"
    },
    {
     "data": {
      "image/png": "[encoded data removed]",
      "text/plain": [
       "<Figure size 432x288 with 1 Axes>"
      ]
     },
     "metadata": {
      "needs_background": "light"
     },
     "output_type": "display_data"
    }
   ],
   "source": [
    "plt.plot(\n",
    "    pension_retraite_brut[:-1],\n",
    "    marginal_rate(pension_retraite_brut - droit_progressif, pension_retraite_brut)\n",
    "    )\n",
    "import numpy as np \n",
    "np.unique(marginal_rate(pension_retraite_brut - droit_progressif, pension_retraite_brut))"
   ]
  },
  {
   "cell_type": "code",
   "execution_count": 8,
   "metadata": {},
   "outputs": [],
   "source": [
    "from openfisca_senegal.inversion import compute_bareme_retraite\n",
    "adjusted_bareme = compute_bareme_retraite(scenario.tax_benefit_system.parameters, period, nombre_de_parts_value)"
   ]
  },
  {
   "cell_type": "code",
   "execution_count": 9,
   "metadata": {},
   "outputs": [
    {
     "name": "stderr",
     "output_type": "stream",
     "text": [
      "/home/benjello/.virtualenvs/openfisca-ceq/local/lib/python3.7/site-packages/pandas/core/frame.py:4153: SettingWithCopyWarning: \n",
      "A value is trying to be set on a copy of a slice from a DataFrame\n",
      "\n",
      "See the caveats in the documentation: https://pandas.pydata.org/pandas-docs/stable/user_guide/indexing.html#returning-a-view-versus-a-copy\n",
      "  downcast=downcast,\n"
     ]
    },
    {
     "name": "stdout",
     "output_type": "stream",
     "text": [
      "  - threshold: 0.0\n",
      "    rate: 0.0\n",
      "  - threshold: 600000\n",
      "    rate: 0.18\n",
      "  - threshold: 890000\n",
      "    rate: 0.22\n",
      "  - threshold: 1010000\n",
      "    rate: 0.25\n",
      "  - threshold: 1410000\n",
      "    rate: 0.28\n",
      "  - threshold: 2475000\n",
      "    rate: 0.3\n",
      "  - threshold: 3540000\n",
      "    rate: 0.35\n",
      "  - threshold: 7650000\n",
      "    rate: 0.4\n",
      "  - threshold: 9650000\n",
      "    rate: 0.45\n",
      "  - threshold: 12650000\n",
      "    rate: 0.5\n",
      "ajdusted\n",
      "  - threshold: 0\n",
      "    rate: 0\n",
      "  - threshold: 1800000.0\n",
      "    rate: 0.18\n",
      "  - threshold: 2090000.0\n",
      "    rate: 0.22\n",
      "  - threshold: 2210000.0\n",
      "    rate: 0.25\n",
      "  - threshold: 2610000.0\n",
      "    rate: 0.28\n",
      "  - threshold: 3600000.0000360003\n",
      "    rate: 0.18666666666760004\n",
      "  - threshold: 3712499.999981437\n",
      "    rate: 0.20000000000100002\n",
      "  - threshold: 5309999.99997345\n",
      "    rate: 0.23333333333450001\n",
      "  - threshold: 11474999.999942623\n",
      "    rate: 0.26666666666800004\n",
      "  - threshold: 14474999.999927623\n",
      "    rate: 0.30000000000150007\n",
      "  - threshold: 18974999.999905124\n",
      "    rate: 0.33333333333500004\n"
     ]
    }
   ],
   "source": [
    "bareme = SenegalTaxBenfitSystem().parameters(period).prelevements_obligatoires.impots_directs.bareme_impot_progressif.copy()\n",
    "print(bareme)\n",
    "print('ajdusted')\n",
    "print(adjusted_bareme)"
   ]
  },
  {
   "cell_type": "code",
   "execution_count": 10,
   "metadata": {},
   "outputs": [
    {
     "data": {
      "text/plain": [
       "<matplotlib.legend.Legend at 0x7fb39aca4e80>"
      ]
     },
     "execution_count": 10,
     "metadata": {},
     "output_type": "execute_result"
    },
    {
     "data": {
      "image/png": "[encoded data removed]",
      "text/plain": [
       "<Figure size 432x288 with 1 Axes>"
      ]
     },
     "metadata": {
      "needs_background": "light"
     },
     "output_type": "display_data"
    }
   ],
   "source": [
    "plt.plot(\n",
    "    pension_retraite_brut,\n",
    "    nombre_de_parts_value * adjusted_bareme.calc(pension_retraite_brut / nombre_de_parts_value),\n",
    "    label = 'ajusted'\n",
    "    )\n",
    "plt.plot(\n",
    "    pension_retraite_brut,\n",
    "    droit_progressif,\n",
    "    label = 'direct'\n",
    "    )\n",
    "plt.legend()"
   ]
  },
  {
   "cell_type": "code",
   "execution_count": 11,
   "metadata": {},
   "outputs": [
    {
     "data": {
      "text/plain": [
       "<matplotlib.legend.Legend at 0x7fb39ac1c710>"
      ]
     },
     "execution_count": 11,
     "metadata": {},
     "output_type": "execute_result"
    },
    {
     "data": {
      "image/png": "[encoded data removed]",
      "text/plain": [
       "<Figure size 432x288 with 1 Axes>"
      ]
     },
     "metadata": {
      "needs_background": "light"
     },
     "output_type": "display_data"
    }
   ],
   "source": [
    "plt.plot(\n",
    "    pension_retraite_brut[:-1],\n",
    "    marginal_rate(pension_retraite_brut - droit_progressif, pension_retraite_brut),\n",
    "    label = \"direct\")\n",
    "plt.plot(\n",
    "    pension_retraite_brut[:-1],\n",
    "    marginal_rate(\n",
    "        pension_retraite_brut - nombre_de_parts_value * adjusted_bareme.calc(pension_retraite_brut / nombre_de_parts_value), \n",
    "        pension_retraite_brut\n",
    "        ),\n",
    "    label = \"adjusted\"\n",
    "    )\n",
    "plt.legend()\n"
   ]
  },
  {
   "cell_type": "code",
   "execution_count": 12,
   "metadata": {},
   "outputs": [
    {
     "ename": "NameError",
     "evalue": "name 'pensio' is not defined",
     "output_type": "error",
     "traceback": [
      "\u001b[0;31m---------------------------------------------------------------------------\u001b[0m",
      "\u001b[0;31mNameError\u001b[0m                                 Traceback (most recent call last)",
      "\u001b[0;32m<ipython-input-12-ccff34398bcb>\u001b[0m in \u001b[0;36m<module>\u001b[0;34m\u001b[0m\n\u001b[0;32m----> 1\u001b[0;31m \u001b[0mpensio\u001b[0m\u001b[0;34m\u001b[0m\u001b[0;34m\u001b[0m\u001b[0m\n\u001b[0m",
      "\u001b[0;31mNameError\u001b[0m: name 'pensio' is not defined"
     ]
    }
   ],
   "source": [
    "pensio"
   ]
  },
  {
   "cell_type": "code",
   "execution_count": null,
   "metadata": {},
   "outputs": [],
   "source": [
    "bareme"
   ]
  },
  {
   "cell_type": "code",
   "execution_count": null,
   "metadata": {},
   "outputs": [],
   "source": [
    "bareme.bracket_indices()\n"
   ]
  },
  {
   "cell_type": "code",
   "execution_count": null,
   "metadata": {},
   "outputs": [],
   "source": []
  }
 ],
 "metadata": {
  "kernelspec": {
   "display_name": "Python 3.7.3 64-bit ('openfisca-ceq': virtualenv)",
   "language": "python",
   "name": "python37364bitopenfiscaceqvirtualenvc02602053c4e4e42868ca2a5b9dfe450"
  },
  "language_info": {
   "codemirror_mode": {
    "name": "ipython",
    "version": 3
   },
   "file_extension": ".py",
   "mimetype": "text/x-python",
   "name": "python",
   "nbconvert_exporter": "python",
   "pygments_lexer": "ipython3",
   "version": "3.7.3"
  }
 },
 "nbformat": 4,
 "nbformat_minor": 4
}

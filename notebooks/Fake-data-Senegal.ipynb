{
 "cells": [
  {
   "cell_type": "markdown",
   "metadata": {
    "collapsed": false,
    "scrolled": true
   },
   "source": [
    "# Microsimulation with artificial survey data "
   ]
  },
  {
   "cell_type": "code",
   "execution_count": 1,
   "metadata": {
    "collapsed": false
   },
   "outputs": [
    {
     "name": "stderr",
     "output_type": "stream",
     "text": [
      "libyaml is not installed in your environment. This can make OpenFisca slower to start. Once you have installed libyaml, run 'pip uninstall pyyaml && pip install pyyaml --no-cache-dir' so that it is used in your Python environment.\n",
      "\n"
     ]
    }
   ],
   "source": [
    "import matplotlib.pyplot as plt  # For graphics\n",
    "%matplotlib inline\n",
    "\n",
    "import numpy as np  # linear algebra and math\n",
    "import pandas as pd  # data frames\n",
    "\n",
    "from openfisca_core.model_api import *\n",
    "from openfisca_senegal import SenegalTaxBenefitSystem  # The Senegalese tax-benefits system\n",
    "\n",
    "from openfisca_senegal.survey_scenarios import SenegalSurveyScenario"
   ]
  },
  {
   "cell_type": "markdown",
   "metadata": {},
   "source": [
    "## Building the artificial data"
   ]
  },
  {
   "cell_type": "markdown",
   "metadata": {},
   "source": [
    "Sénégal is composed by almost 15 millions people dispatched in around 1.6 million household"
   ]
  },
  {
   "cell_type": "code",
   "execution_count": 2,
   "metadata": {
    "collapsed": false
   },
   "outputs": [
    {
     "name": "stdout",
     "output_type": "stream",
     "text": [
      "Size of the sample: 16000\n"
     ]
    }
   ],
   "source": [
    "year = 2017\n",
    "household_weight = 100\n",
    "size = int(1.6e6 / household_weight)\n",
    "print(\"Size of the sample: {}\".format(size))\n",
    "np.random.seed(seed = 42)"
   ]
  },
  {
   "cell_type": "markdown",
   "metadata": {},
   "source": [
    "We assume that 2/3 of the household heads are married and that only married houshold do have children. The mean number of children per household is 5 and is normally distributed"
   ]
  },
  {
   "cell_type": "code",
   "execution_count": 3,
   "metadata": {
    "collapsed": false
   },
   "outputs": [],
   "source": [
    "est_marie = np.random.binomial(1, .66, size = size)\n",
    "est_celibataire = np.logical_not(est_marie)\n",
    "nombre_enfants = np.maximum(\n",
    "    est_marie * np.round(np.random.normal(5, scale = 3, size = size)),\n",
    "    0,\n",
    "    )"
   ]
  },
  {
   "cell_type": "markdown",
   "metadata": {},
   "source": [
    "We assume that 80% of the population are wage earners.\n",
    "We choose a mean wage of 5 000 0000 CFA with a log normal ditribution.\n",
    "Since \n",
    "$$ \\text{mean wage}  = e^{\\mu + \\frac{\\sigma ^ 2}{2}} $$ \n",
    "and\n",
    "$$ \\text{median wage} = e^\\mu $$\n",
    "we can compute the distribution according to the following expressions."
   ]
  },
  {
   "cell_type": "code",
   "execution_count": 4,
   "metadata": {
    "collapsed": true
   },
   "outputs": [],
   "source": [
    "mean_wage = 5e6\n",
    "median_wage = .75 * mean_wage\n",
    "est_salarie = np.random.binomial(1, .8, size = size)\n",
    "mu = np.log(median_wage)\n",
    "sigma = np.sqrt(2 * np.log(mean_wage / median_wage))\n",
    "salaire = (\n",
    "    est_salarie * \n",
    "    np.random.lognormal(mean = mu, sigma = sigma, size = int(size))\n",
    "    )\n"
   ]
  },
  {
   "cell_type": "markdown",
   "metadata": {},
   "source": [
    "We choose a mean pension of 2 500 000 CFA"
   ]
  },
  {
   "cell_type": "code",
   "execution_count": 5,
   "metadata": {
    "collapsed": false
   },
   "outputs": [],
   "source": [
    "mean_pension = 2.5e6\n",
    "median_pension = .9 * mean_pension"
   ]
  },
  {
   "cell_type": "code",
   "execution_count": 6,
   "metadata": {
    "collapsed": false
   },
   "outputs": [],
   "source": [
    "mu = np.log(median_pension)\n",
    "sigma = np.sqrt(2 * np.log(mean_pension / median_pension))\n",
    "pension_retraite = (\n",
    "    np.logical_not(est_salarie) *\n",
    "    np.random.lognormal(mean = mu, sigma = sigma, size = int(size))\n",
    "    )"
   ]
  },
  {
   "cell_type": "code",
   "execution_count": 7,
   "metadata": {
    "collapsed": false
   },
   "outputs": [],
   "source": [
    "input_data_frame = pd.DataFrame({\n",
    "    'est_marie': est_marie,\n",
    "    'est_celibataire': est_celibataire,\n",
    "    'nombre_enfants': nombre_enfants,\n",
    "    'pension_retraite': pension_retraite,\n",
    "    'salaire': salaire,\n",
    "    'id_menage': range(size),\n",
    "    'role_menage': 0,\n",
    "    })"
   ]
  },
  {
   "cell_type": "code",
   "execution_count": 8,
   "metadata": {
    "collapsed": false
   },
   "outputs": [
    {
     "data": {
      "text/plain": [
       "<matplotlib.axes._subplots.AxesSubplot at 0x7f6b30688240>"
      ]
     },
     "execution_count": 8,
     "metadata": {},
     "output_type": "execute_result"
    },
    {
     "data": {
      "image/png": "[encoded data removed]",
      "text/plain": [
       "<Figure size 432x288 with 1 Axes>"
      ]
     },
     "metadata": {
      "needs_background": "light"
     },
     "output_type": "display_data"
    }
   ],
   "source": [
    "input_data_frame.salaire.hist(bins=100)"
   ]
  },
  {
   "cell_type": "code",
   "execution_count": 9,
   "metadata": {
    "collapsed": false
   },
   "outputs": [
    {
     "data": {
      "text/plain": [
       "<matplotlib.axes._subplots.AxesSubplot at 0x7f6af8b6b6d8>"
      ]
     },
     "execution_count": 9,
     "metadata": {},
     "output_type": "execute_result"
    },
    {
     "data": {
      "image/png": "[encoded data removed]",
      "text/plain": [
       "<Figure size 432x288 with 1 Axes>"
      ]
     },
     "metadata": {
      "needs_background": "light"
     },
     "output_type": "display_data"
    }
   ],
   "source": [
    "input_data_frame.pension_retraite.hist(bins=100, range = [.0001, 1e8])"
   ]
  },
  {
   "cell_type": "markdown",
   "metadata": {},
   "source": [
    "## Microsimulation "
   ]
  },
  {
   "cell_type": "markdown",
   "metadata": {},
   "source": [
    "As with test case, we can build a scenario with survey data"
   ]
  },
  {
   "cell_type": "code",
   "execution_count": 10,
   "metadata": {
    "collapsed": false
   },
   "outputs": [
    {
     "name": "stderr",
     "output_type": "stream",
     "text": [
      "/home/benjello/openfisca/openfisca-core/openfisca_core/entities.py:333: Warning: entity.roles_count is deprecated. Since OpenFisca Core 23.0, this attribute has strictly no effect, and it is not necessary to set it.\n",
      "  Warning\n",
      "/home/benjello/openfisca/openfisca-core/openfisca_core/entities.py:321: Warning: entity.roles_count is deprecated. Since OpenFisca Core 23.0, this attribute has strictly no effect, and it is not necessary to set it.\n",
      "  Warning\n"
     ]
    }
   ],
   "source": [
    "data = dict(input_data_frame = input_data_frame)\n",
    "scenario = SenegalSurveyScenario(\n",
    "    year = year,\n",
    "    data = data,\n",
    "    )"
   ]
  },
  {
   "cell_type": "markdown",
   "metadata": {},
   "source": [
    "We can compute the value of any variable for the whole population an draw distributions"
   ]
  },
  {
   "cell_type": "code",
   "execution_count": 11,
   "metadata": {
    "collapsed": false
   },
   "outputs": [
    {
     "data": {
      "text/plain": [
       "array([     0., 221100., 974400., ..., 233100., 933800., 309600.],\n",
       "      dtype=float32)"
      ]
     },
     "execution_count": 11,
     "metadata": {},
     "output_type": "execute_result"
    }
   ],
   "source": [
    "scenario.simulation.calculate('impot_revenus', period = year)"
   ]
  },
  {
   "cell_type": "code",
   "execution_count": 12,
   "metadata": {
    "collapsed": false
   },
   "outputs": [],
   "source": [
    "df = pd.DataFrame({'impot_revenus': scenario.simulation.calculate('impot_revenus', period = year)})"
   ]
  },
  {
   "cell_type": "code",
   "execution_count": 31,
   "metadata": {
    "collapsed": false
   },
   "outputs": [
    {
     "data": {
      "text/plain": [
       "array([[<matplotlib.axes._subplots.AxesSubplot object at 0x7f6af89adb38>]],\n",
       "      dtype=object)"
      ]
     },
     "execution_count": 31,
     "metadata": {},
     "output_type": "execute_result"
    },
    {
     "data": {
      "image/png": "[encoded data removed]",
      "text/plain": [
       "<Figure size 432x288 with 1 Axes>"
      ]
     },
     "metadata": {
      "needs_background": "light"
     },
     "output_type": "display_data"
    }
   ],
   "source": [
    "df.hist(bins = 100)"
   ]
  },
  {
   "cell_type": "markdown",
   "metadata": {},
   "source": [
    "Special methods allow access to aggregates and pivot tables"
   ]
  },
  {
   "cell_type": "code",
   "execution_count": 32,
   "metadata": {
    "collapsed": false
   },
   "outputs": [
    {
     "data": {
      "text/plain": [
       "9.673498624"
      ]
     },
     "execution_count": 32,
     "metadata": {},
     "output_type": "execute_result"
    }
   ],
   "source": [
    "scenario.compute_aggregate('impot_revenus', period = year) / 1e9"
   ]
  },
  {
   "cell_type": "code",
   "execution_count": 33,
   "metadata": {
    "collapsed": false
   },
   "outputs": [
    {
     "data": {
      "text/plain": [
       "<matplotlib.axes._subplots.AxesSubplot at 0x7f6af0a0a550>"
      ]
     },
     "execution_count": 33,
     "metadata": {},
     "output_type": "execute_result"
    },
    {
     "data": {
      "image/png": "[encoded data removed]",
      "text/plain": [
       "<Figure size 432x288 with 1 Axes>"
      ]
     },
     "metadata": {
      "needs_background": "light"
     },
     "output_type": "display_data"
    }
   ],
   "source": [
    "scenario.compute_pivot_table(\n",
    "    aggfunc = 'sum', \n",
    "    values = ['impot_revenus'], \n",
    "    columns = ['nombre_enfants'],\n",
    "    period = year,\n",
    "    ).stack().reset_index().plot(x = 'nombre_enfants', kind = 'bar')"
   ]
  },
  {
   "cell_type": "markdown",
   "metadata": {
    "collapsed": true
   },
   "source": [
    "# Evaluate the financial impact of a reform"
   ]
  },
  {
   "cell_type": "markdown",
   "metadata": {
    "collapsed": true
   },
   "source": [
    "Write a parametric reform tthat increseases the top marginal tax rates and evaluate how much revenue can be collected"
   ]
  },
  {
   "cell_type": "code",
   "execution_count": 34,
   "metadata": {
    "collapsed": false
   },
   "outputs": [],
   "source": [
    "def modify_parameters(parameters):\n",
    "    parameters.bareme_impot_progressif[5].rate.update(period = period(year), value = .5)\n",
    "    return parameters\n",
    "    \n",
    "class tax_the_rich(Reform):\n",
    "    name = u\"Tax last bracket at 50%\"\n",
    "\n",
    "    def apply(self):\n",
    "        self.modify_parameters(modifier_function = modify_parameters)"
   ]
  },
  {
   "cell_type": "code",
   "execution_count": 35,
   "metadata": {
    "collapsed": false
   },
   "outputs": [],
   "source": [
    "senegal_tax_benefit_system = SenegalTaxBenefitSystem()\n",
    "tax_the_rich_tax_benefit_system = tax_the_rich(senegal_tax_benefit_system)"
   ]
  },
  {
   "cell_type": "code",
   "execution_count": 36,
   "metadata": {
    "collapsed": false
   },
   "outputs": [
    {
     "name": "stderr",
     "output_type": "stream",
     "text": [
      "/home/benjello/openfisca/openfisca-core/openfisca_core/entities.py:333: Warning: entity.roles_count is deprecated. Since OpenFisca Core 23.0, this attribute has strictly no effect, and it is not necessary to set it.\n",
      "  Warning\n",
      "/home/benjello/openfisca/openfisca-core/openfisca_core/entities.py:321: Warning: entity.roles_count is deprecated. Since OpenFisca Core 23.0, this attribute has strictly no effect, and it is not necessary to set it.\n",
      "  Warning\n"
     ]
    }
   ],
   "source": [
    "scenario = SenegalSurveyScenario(\n",
    "    data = data,\n",
    "    tax_benefit_system = tax_the_rich_tax_benefit_system,\n",
    "    baseline_tax_benefit_system = senegal_tax_benefit_system,\n",
    "    year = year,\n",
    "    )"
   ]
  },
  {
   "cell_type": "code",
   "execution_count": 37,
   "metadata": {
    "collapsed": false
   },
   "outputs": [
    {
     "name": "stdout",
     "output_type": "stream",
     "text": [
      "reform tax the rich:  9.931257856\n",
      "baseline:  9.67353344\n"
     ]
    }
   ],
   "source": [
    "print('reform tax the rich: ', scenario.compute_aggregate('impot_revenus', period = year) / 1e9)\n",
    "print('baseline: ', scenario.compute_aggregate('impot_revenus', use_baseline = True, period = year) / 1e9)"
   ]
  },
  {
   "cell_type": "code",
   "execution_count": 38,
   "metadata": {
    "collapsed": false
   },
   "outputs": [],
   "source": [
    "from openfisca_senegal.entities import Individu\n",
    "\n",
    "def build_ultimate_reform_tax_benefit_system(seuil = 0, marginal_tax_rate = .4):\n",
    "\n",
    "    senegal_tax_benefit_system = SenegalTaxBenefitSystem()\n",
    "    class impot_revenus(Variable):\n",
    "        def formula(individu, period):\n",
    "            impot_avant_reduction_famille = individu('impot_avant_reduction_famille', period)\n",
    "            reduction_impots_pour_charge_famille = individu('reduction_impots_pour_charge_famille', period)\n",
    "            impot_apres_reduction_famille = impot_avant_reduction_famille - reduction_impots_pour_charge_famille\n",
    "            impot_revenus = max_(0, impot_apres_reduction_famille)\n",
    "            return impot_revenus * (impot_revenus > seuil)            \n",
    "\n",
    "    def modify_parameters(parameters):\n",
    "        parameters.bareme_impot_progressif[5].rate.update(period = period(year), value = marginal_tax_rate)\n",
    "        return parameters\n",
    "\n",
    "\n",
    "    class ultimate_reform(Reform):\n",
    "        name = u\"Tax the rich and save the poor taxpayers (tax < {})\".format(seuil)\n",
    "\n",
    "        def apply(self):\n",
    "            self.update_variable(impot_revenus)\n",
    "            self.modify_parameters(modifier_function = modify_parameters)\n",
    "\n",
    "    return ultimate_reform(senegal_tax_benefit_system)"
   ]
  },
  {
   "cell_type": "code",
   "execution_count": 39,
   "metadata": {
    "collapsed": false
   },
   "outputs": [],
   "source": [
    "reformed_tax_benefit_system = build_ultimate_reform_tax_benefit_system(seuil = 100000, marginal_tax_rate = .45)"
   ]
  },
  {
   "cell_type": "code",
   "execution_count": 40,
   "metadata": {
    "collapsed": false
   },
   "outputs": [
    {
     "name": "stderr",
     "output_type": "stream",
     "text": [
      "/home/benjello/openfisca/openfisca-core/openfisca_core/entities.py:333: Warning: entity.roles_count is deprecated. Since OpenFisca Core 23.0, this attribute has strictly no effect, and it is not necessary to set it.\n",
      "  Warning\n",
      "/home/benjello/openfisca/openfisca-core/openfisca_core/entities.py:321: Warning: entity.roles_count is deprecated. Since OpenFisca Core 23.0, this attribute has strictly no effect, and it is not necessary to set it.\n",
      "  Warning\n"
     ]
    }
   ],
   "source": [
    "scenario = SenegalSurveyScenario(\n",
    "    data = data,\n",
    "    tax_benefit_system = reformed_tax_benefit_system,\n",
    "    baseline_tax_benefit_system = SenegalTaxBenefitSystem(),\n",
    "    year = year,\n",
    "    )"
   ]
  },
  {
   "cell_type": "code",
   "execution_count": 41,
   "metadata": {
    "collapsed": false
   },
   "outputs": [
    {
     "name": "stdout",
     "output_type": "stream",
     "text": [
      "reform:  9.753219072\n",
      "baseline:  9.67353344\n"
     ]
    }
   ],
   "source": [
    "print('reform: ', scenario.compute_aggregate('impot_revenus', period = year) / 1e9)\n",
    "print('baseline: ', scenario.compute_aggregate('impot_revenus', use_baseline = True, period = year) / 1e9)"
   ]
  },
  {
   "cell_type": "code",
   "execution_count": 42,
   "metadata": {
    "collapsed": false
   },
   "outputs": [
    {
     "name": "stdout",
     "output_type": "stream",
     "text": [
      "9.753219072\n",
      "9.67353344\n",
      "-0.079685632\n"
     ]
    },
    {
     "name": "stderr",
     "output_type": "stream",
     "text": [
      "/home/benjello/openfisca/openfisca-core/openfisca_core/entities.py:333: Warning: entity.roles_count is deprecated. Since OpenFisca Core 23.0, this attribute has strictly no effect, and it is not necessary to set it.\n",
      "  Warning\n",
      "/home/benjello/openfisca/openfisca-core/openfisca_core/entities.py:321: Warning: entity.roles_count is deprecated. Since OpenFisca Core 23.0, this attribute has strictly no effect, and it is not necessary to set it.\n",
      "  Warning\n"
     ]
    }
   ],
   "source": [
    "scenario = SenegalSurveyScenario(\n",
    "    data = data,\n",
    "    tax_benefit_system = reformed_tax_benefit_system,\n",
    "    baseline_tax_benefit_system =  SenegalTaxBenefitSystem(),\n",
    "    year = year,\n",
    "    )\n",
    "print(scenario.compute_aggregate('impot_revenus', period = year) / 1e9)\n",
    "print(scenario.compute_aggregate('impot_revenus', use_baseline = True, period = year) / 1e9)\n",
    "cost = - (\n",
    "    scenario.compute_aggregate('impot_revenus', period = year) -\n",
    "    scenario.compute_aggregate('impot_revenus', use_baseline = True, period = year)\n",
    "    ) / 1e9\n",
    "print(cost)"
   ]
  },
  {
   "cell_type": "code",
   "execution_count": 43,
   "metadata": {
    "collapsed": true
   },
   "outputs": [],
   "source": [
    "def compute_reform_cost(seuil):\n",
    "    reformed_tax_benefit_system = build_ultimate_reform_tax_benefit_system(\n",
    "        seuil = seuil, \n",
    "        marginal_tax_rate = .41\n",
    "        )\n",
    "    scenario = SenegalSurveyScenario(\n",
    "        data = data,\n",
    "        tax_benefit_system = reformed_tax_benefit_system,\n",
    "        baseline_tax_benefit_system = SenegalTaxBenefitSystem(),\n",
    "        year = year,\n",
    "        )\n",
    "    cost = - (\n",
    "        scenario.compute_aggregate('impot_revenus', period = year) - \n",
    "        scenario.compute_aggregate('impot_revenus', use_baseline = True, period = year)\n",
    "        ) / 1e9\n",
    "    return cost"
   ]
  },
  {
   "cell_type": "code",
   "execution_count": 44,
   "metadata": {
    "collapsed": false
   },
   "outputs": [
    {
     "name": "stderr",
     "output_type": "stream",
     "text": [
      "/home/benjello/openfisca/openfisca-core/openfisca_core/entities.py:333: Warning: entity.roles_count is deprecated. Since OpenFisca Core 23.0, this attribute has strictly no effect, and it is not necessary to set it.\n",
      "  Warning\n",
      "/home/benjello/openfisca/openfisca-core/openfisca_core/entities.py:321: Warning: entity.roles_count is deprecated. Since OpenFisca Core 23.0, this attribute has strictly no effect, and it is not necessary to set it.\n",
      "  Warning\n"
     ]
    },
    {
     "data": {
      "text/plain": [
       "0.023097344"
      ]
     },
     "execution_count": 44,
     "metadata": {},
     "output_type": "execute_result"
    }
   ],
   "source": [
    "compute_reform_cost(seuil = 100000)"
   ]
  },
  {
   "cell_type": "code",
   "execution_count": 45,
   "metadata": {
    "collapsed": false
   },
   "outputs": [
    {
     "name": "stderr",
     "output_type": "stream",
     "text": [
      "/home/benjello/openfisca/openfisca-core/openfisca_core/entities.py:333: Warning: entity.roles_count is deprecated. Since OpenFisca Core 23.0, this attribute has strictly no effect, and it is not necessary to set it.\n",
      "  Warning\n",
      "/home/benjello/openfisca/openfisca-core/openfisca_core/entities.py:321: Warning: entity.roles_count is deprecated. Since OpenFisca Core 23.0, this attribute has strictly no effect, and it is not necessary to set it.\n",
      "  Warning\n",
      "/usr/lib/python3/dist-packages/scipy/optimize/minpack.py:163: RuntimeWarning: The iteration is not making good progress, as measured by the \n",
      "  improvement from the last ten iterations.\n",
      "  warnings.warn(msg, RuntimeWarning)\n"
     ]
    },
    {
     "data": {
      "text/plain": [
       "array([71635.74048561])"
      ]
     },
     "execution_count": 45,
     "metadata": {},
     "output_type": "execute_result"
    }
   ],
   "source": [
    "from scipy.optimize import fsolve\n",
    "x = fsolve(compute_reform_cost, 100000)\n",
    "x"
   ]
  },
  {
   "cell_type": "code",
   "execution_count": 46,
   "metadata": {
    "collapsed": false
   },
   "outputs": [
    {
     "name": "stderr",
     "output_type": "stream",
     "text": [
      "/home/benjello/openfisca/openfisca-core/openfisca_core/entities.py:333: Warning: entity.roles_count is deprecated. Since OpenFisca Core 23.0, this attribute has strictly no effect, and it is not necessary to set it.\n",
      "  Warning\n",
      "/home/benjello/openfisca/openfisca-core/openfisca_core/entities.py:321: Warning: entity.roles_count is deprecated. Since OpenFisca Core 23.0, this attribute has strictly no effect, and it is not necessary to set it.\n",
      "  Warning\n"
     ]
    },
    {
     "data": {
      "text/plain": [
       "3.4816e-05"
      ]
     },
     "execution_count": 46,
     "metadata": {},
     "output_type": "execute_result"
    }
   ],
   "source": [
    "compute_reform_cost(seuil = x)"
   ]
  },
  {
   "cell_type": "code",
   "execution_count": 47,
   "metadata": {
    "collapsed": false
   },
   "outputs": [
    {
     "name": "stderr",
     "output_type": "stream",
     "text": [
      "/home/benjello/openfisca/openfisca-core/openfisca_core/entities.py:333: Warning: entity.roles_count is deprecated. Since OpenFisca Core 23.0, this attribute has strictly no effect, and it is not necessary to set it.\n",
      "  Warning\n",
      "/home/benjello/openfisca/openfisca-core/openfisca_core/entities.py:321: Warning: entity.roles_count is deprecated. Since OpenFisca Core 23.0, this attribute has strictly no effect, and it is not necessary to set it.\n",
      "  Warning\n"
     ]
    }
   ],
   "source": [
    "reformed_tax_benefit_system = build_ultimate_reform_tax_benefit_system(\n",
    "        seuil = x, \n",
    "        marginal_tax_rate = .41\n",
    "        )\n",
    "scenario = SenegalSurveyScenario(\n",
    "    data = data,\n",
    "    tax_benefit_system = reformed_tax_benefit_system,\n",
    "    baseline_tax_benefit_system = SenegalTaxBenefitSystem(),\n",
    "    year = year,\n",
    "    )"
   ]
  },
  {
   "cell_type": "code",
   "execution_count": 48,
   "metadata": {
    "collapsed": false
   },
   "outputs": [
    {
     "data": {
      "text/plain": [
       "<matplotlib.axes._subplots.AxesSubplot at 0x7f6af0958128>"
      ]
     },
     "execution_count": 48,
     "metadata": {},
     "output_type": "execute_result"
    },
    {
     "data": {
      "image/png": "[encoded data removed]",
      "text/plain": [
       "<Figure size 432x288 with 1 Axes>"
      ]
     },
     "metadata": {
      "needs_background": "light"
     },
     "output_type": "display_data"
    }
   ],
   "source": [
    "scenario.compute_pivot_table(\n",
    "    aggfunc = 'sum', \n",
    "    values = ['impot_revenus'], \n",
    "    columns = ['nombre_enfants'],\n",
    "    period = year,\n",
    "    difference = True,\n",
    "    ).stack().reset_index().plot(x = 'nombre_enfants', kind = 'bar')"
   ]
  },
  {
   "cell_type": "code",
   "execution_count": null,
   "metadata": {
    "collapsed": true
   },
   "outputs": [],
   "source": []
  },
  {
   "cell_type": "code",
   "execution_count": null,
   "metadata": {
    "collapsed": true
   },
   "outputs": [],
   "source": []
  }
 ],
 "metadata": {
  "kernelspec": {
   "display_name": "Python 3",
   "language": "python",
   "name": "python3"
  },
  "language_info": {
   "codemirror_mode": {
    "name": "ipython",
    "version": 3
   },
   "file_extension": ".py",
   "mimetype": "text/x-python",
   "name": "python",
   "nbconvert_exporter": "python",
   "pygments_lexer": "ipython3",
   "version": "3.7.2"
  }
 },
 "nbformat": 4,
 "nbformat_minor": 2
}
